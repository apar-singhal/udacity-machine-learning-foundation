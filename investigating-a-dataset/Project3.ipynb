{
 "cells": [
  {
   "cell_type": "markdown",
   "metadata": {},
   "source": [
    "# Project: Investigating No-Show Appointments Dataset\n",
    "\n",
    "## Table of Contents\n",
    "<ul>\n",
    "<li><a href=\"#intro\">Introduction</a></li>\n",
    "<li><a href=\"#wrangling\">Data Wrangling</a></li>\n",
    "<li><a href=\"#eda\">Exploratory Data Analysis</a></li>\n",
    "<li><a href=\"#conclusions\">Conclusions</a></li>\n",
    "</ul>"
   ]
  },
  {
   "cell_type": "markdown",
   "metadata": {},
   "source": [
    "<a id='intro'></a>\n",
    "## Introduction\n",
    "\n",
    "### About dataset\n",
    "> This dataset collects information from 100k medical appointments in Brazil and is focused on the question of whether or not patients show up for their appointment.\n",
    "\n",
    "### Questions To Be Explored\n",
    "> <ol>\n",
    "<li>What could be the relationship between age and no-show?</li>\n",
    "<li>How does scholarship affects show-ups?</li>\n",
    "<li>Which neighbourhoods have most number of show-ups?</li>\n",
    "</ol>\n",
    "#### <u>Dependent Variables</u>: Showing up / Not showing up for the appointment\n",
    "#### <u>Independent Variables</u>: Age, Scholarship, SMS Notifications, Scheduling day\n"
   ]
  },
  {
   "cell_type": "markdown",
   "metadata": {},
   "source": [
    "## Import statements\n",
    "\n",
    "> I will use different cell for each import so that I can easily add new imports without re-importing everything"
   ]
  },
  {
   "cell_type": "code",
   "execution_count": 1,
   "metadata": {
    "collapsed": true
   },
   "outputs": [],
   "source": [
    "import pandas as pd"
   ]
  },
  {
   "cell_type": "code",
   "execution_count": 2,
   "metadata": {
    "collapsed": true
   },
   "outputs": [],
   "source": [
    "import numpy as np"
   ]
  },
  {
   "cell_type": "code",
   "execution_count": 3,
   "metadata": {},
   "outputs": [
    {
     "name": "stdout",
     "output_type": "stream",
     "text": [
      "Populating the interactive namespace from numpy and matplotlib\n"
     ]
    }
   ],
   "source": [
    "%pylab inline\n",
    "import matplotlib.pyplot as plt\n",
    "import seaborn as sns"
   ]
  },
  {
   "cell_type": "markdown",
   "metadata": {},
   "source": [
    "<a id='wrangling'></a>\n",
    "## Data Wrangling & Data Cleaning\n",
    "\n",
    "> In this section I will load in the data, check for cleanliness, and then trim and clean my dataset for analysis"
   ]
  },
  {
   "cell_type": "markdown",
   "metadata": {},
   "source": [
    "### General Properties"
   ]
  },
  {
   "cell_type": "code",
   "execution_count": 4,
   "metadata": {
    "collapsed": true
   },
   "outputs": [],
   "source": [
    "path_dataset = 'noshowappointments-kagglev2-may-2016.csv'"
   ]
  },
  {
   "cell_type": "markdown",
   "metadata": {},
   "source": [
    "### Loading dataset and displaying first 5 rows to understand the structure"
   ]
  },
  {
   "cell_type": "code",
   "execution_count": 5,
   "metadata": {},
   "outputs": [
    {
     "data": {
      "text/html": [
       "<div>\n",
       "<style>\n",
       "    .dataframe thead tr:only-child th {\n",
       "        text-align: right;\n",
       "    }\n",
       "\n",
       "    .dataframe thead th {\n",
       "        text-align: left;\n",
       "    }\n",
       "\n",
       "    .dataframe tbody tr th {\n",
       "        vertical-align: top;\n",
       "    }\n",
       "</style>\n",
       "<table border=\"1\" class=\"dataframe\">\n",
       "  <thead>\n",
       "    <tr style=\"text-align: right;\">\n",
       "      <th></th>\n",
       "      <th>PatientId</th>\n",
       "      <th>AppointmentID</th>\n",
       "      <th>Gender</th>\n",
       "      <th>ScheduledDay</th>\n",
       "      <th>AppointmentDay</th>\n",
       "      <th>Age</th>\n",
       "      <th>Neighbourhood</th>\n",
       "      <th>Scholarship</th>\n",
       "      <th>Hipertension</th>\n",
       "      <th>Diabetes</th>\n",
       "      <th>Alcoholism</th>\n",
       "      <th>Handcap</th>\n",
       "      <th>SMS_received</th>\n",
       "      <th>No-show</th>\n",
       "    </tr>\n",
       "  </thead>\n",
       "  <tbody>\n",
       "    <tr>\n",
       "      <th>0</th>\n",
       "      <td>2.987250e+13</td>\n",
       "      <td>5642903</td>\n",
       "      <td>F</td>\n",
       "      <td>2016-04-29T18:38:08Z</td>\n",
       "      <td>2016-04-29T00:00:00Z</td>\n",
       "      <td>62</td>\n",
       "      <td>JARDIM DA PENHA</td>\n",
       "      <td>0</td>\n",
       "      <td>1</td>\n",
       "      <td>0</td>\n",
       "      <td>0</td>\n",
       "      <td>0</td>\n",
       "      <td>0</td>\n",
       "      <td>No</td>\n",
       "    </tr>\n",
       "    <tr>\n",
       "      <th>1</th>\n",
       "      <td>5.589978e+14</td>\n",
       "      <td>5642503</td>\n",
       "      <td>M</td>\n",
       "      <td>2016-04-29T16:08:27Z</td>\n",
       "      <td>2016-04-29T00:00:00Z</td>\n",
       "      <td>56</td>\n",
       "      <td>JARDIM DA PENHA</td>\n",
       "      <td>0</td>\n",
       "      <td>0</td>\n",
       "      <td>0</td>\n",
       "      <td>0</td>\n",
       "      <td>0</td>\n",
       "      <td>0</td>\n",
       "      <td>No</td>\n",
       "    </tr>\n",
       "    <tr>\n",
       "      <th>2</th>\n",
       "      <td>4.262962e+12</td>\n",
       "      <td>5642549</td>\n",
       "      <td>F</td>\n",
       "      <td>2016-04-29T16:19:04Z</td>\n",
       "      <td>2016-04-29T00:00:00Z</td>\n",
       "      <td>62</td>\n",
       "      <td>MATA DA PRAIA</td>\n",
       "      <td>0</td>\n",
       "      <td>0</td>\n",
       "      <td>0</td>\n",
       "      <td>0</td>\n",
       "      <td>0</td>\n",
       "      <td>0</td>\n",
       "      <td>No</td>\n",
       "    </tr>\n",
       "  </tbody>\n",
       "</table>\n",
       "</div>"
      ],
      "text/plain": [
       "      PatientId  AppointmentID Gender          ScheduledDay  \\\n",
       "0  2.987250e+13        5642903      F  2016-04-29T18:38:08Z   \n",
       "1  5.589978e+14        5642503      M  2016-04-29T16:08:27Z   \n",
       "2  4.262962e+12        5642549      F  2016-04-29T16:19:04Z   \n",
       "\n",
       "         AppointmentDay  Age    Neighbourhood  Scholarship  Hipertension  \\\n",
       "0  2016-04-29T00:00:00Z   62  JARDIM DA PENHA            0             1   \n",
       "1  2016-04-29T00:00:00Z   56  JARDIM DA PENHA            0             0   \n",
       "2  2016-04-29T00:00:00Z   62    MATA DA PRAIA            0             0   \n",
       "\n",
       "   Diabetes  Alcoholism  Handcap  SMS_received No-show  \n",
       "0         0           0        0             0      No  \n",
       "1         0           0        0             0      No  \n",
       "2         0           0        0             0      No  "
      ]
     },
     "execution_count": 5,
     "metadata": {},
     "output_type": "execute_result"
    }
   ],
   "source": [
    "dataset = pd.read_csv(path_dataset)\n",
    "dataset.head(3)"
   ]
  },
  {
   "cell_type": "markdown",
   "metadata": {},
   "source": [
    "### Observations\n",
    "\n",
    "> <ul>\n",
    "<li> Scholarship, SMS and all problems are mentioned as integers. I would change that to True/False where 0 will be False and non-zeros will be True.</li>\n",
    "<li> I would also change No-Show value to Did-Show as True/False where True means patient did show and false means no-show.</li>\n",
    "<li> I will also like to correct the spelling mistakes in the header and will make everything lower case to avoid typo errors </li>\n",
    "</ul>\n",
    "\n"
   ]
  },
  {
   "cell_type": "markdown",
   "metadata": {},
   "source": [
    "#### Renaming headers"
   ]
  },
  {
   "cell_type": "code",
   "execution_count": 6,
   "metadata": {},
   "outputs": [
    {
     "name": "stdout",
     "output_type": "stream",
     "text": [
      "Before: \n",
      "Index(['PatientId', 'AppointmentID', 'Gender', 'ScheduledDay',\n",
      "       'AppointmentDay', 'Age', 'Neighbourhood', 'Scholarship', 'Hipertension',\n",
      "       'Diabetes', 'Alcoholism', 'Handcap', 'SMS_received', 'No-show'],\n",
      "      dtype='object')\n",
      "\n",
      "After: \n",
      "Index(['patient_id', 'appointment_id', 'gender', 'scheduled_day',\n",
      "       'appointment_day', 'age', 'neighbourhood', 'has_scholarship',\n",
      "       'is_hypertensive', 'is_diabetic', 'is_alcoholic', 'is_handicap',\n",
      "       'got_sms', 'did_show'],\n",
      "      dtype='object')\n"
     ]
    }
   ],
   "source": [
    "print('Before: ')\n",
    "print (dataset.keys())\n",
    "\n",
    "dataset.rename(columns = {'PatientId':'patient_id',\n",
    "                          'AppointmentID':'appointment_id',\n",
    "                          'Gender':'gender',\n",
    "                          'ScheduledDay':'scheduled_day',\n",
    "                          'AppointmentDay':'appointment_day',\n",
    "                          'Age':'age',\n",
    "                          'Neighbourhood':'neighbourhood',\n",
    "                          'Scholarship':'has_scholarship',\n",
    "                          'Hipertension':'is_hypertensive',\n",
    "                          'Diabetes':'is_diabetic', \n",
    "                          'Alcoholism':'is_alcoholic',\n",
    "                          'Handcap':'is_handicap',\n",
    "                          'SMS_received':'got_sms',\n",
    "                          'No-show':'did_show'\n",
    "                         },\n",
    "               inplace = True)\n",
    "\n",
    "print('\\nAfter: ')\n",
    "print (dataset.keys())"
   ]
  },
  {
   "cell_type": "markdown",
   "metadata": {},
   "source": [
    "#### Converting to boolean"
   ]
  },
  {
   "cell_type": "code",
   "execution_count": 7,
   "metadata": {
    "collapsed": true
   },
   "outputs": [],
   "source": [
    "dataset.has_scholarship = (dataset.has_scholarship != 0)\n",
    "dataset.got_sms = (dataset.got_sms != 0)\n",
    "dataset.is_hypertensive = (dataset.is_hypertensive != 0)\n",
    "dataset.is_diabetic = (dataset.is_diabetic != 0)\n",
    "dataset.is_alcoholic = (dataset.is_alcoholic != 0)\n",
    "dataset.is_handicap = (dataset.is_handicap != 0)\n",
    "dataset.did_show = (dataset.did_show == 'No')"
   ]
  },
  {
   "cell_type": "markdown",
   "metadata": {},
   "source": [
    "#### Converting to yes/no"
   ]
  },
  {
   "cell_type": "code",
   "execution_count": 8,
   "metadata": {
    "collapsed": true
   },
   "outputs": [],
   "source": [
    "def bool2yesno(val):\n",
    "    if(val):\n",
    "        return 'Yes'\n",
    "    return 'No'"
   ]
  },
  {
   "cell_type": "code",
   "execution_count": 9,
   "metadata": {
    "collapsed": true
   },
   "outputs": [],
   "source": [
    "dataset.has_scholarship = dataset.has_scholarship.apply(bool2yesno)"
   ]
  },
  {
   "cell_type": "code",
   "execution_count": 10,
   "metadata": {},
   "outputs": [
    {
     "data": {
      "text/html": [
       "<div>\n",
       "<style>\n",
       "    .dataframe thead tr:only-child th {\n",
       "        text-align: right;\n",
       "    }\n",
       "\n",
       "    .dataframe thead th {\n",
       "        text-align: left;\n",
       "    }\n",
       "\n",
       "    .dataframe tbody tr th {\n",
       "        vertical-align: top;\n",
       "    }\n",
       "</style>\n",
       "<table border=\"1\" class=\"dataframe\">\n",
       "  <thead>\n",
       "    <tr style=\"text-align: right;\">\n",
       "      <th></th>\n",
       "      <th>patient_id</th>\n",
       "      <th>appointment_id</th>\n",
       "      <th>gender</th>\n",
       "      <th>scheduled_day</th>\n",
       "      <th>appointment_day</th>\n",
       "      <th>age</th>\n",
       "      <th>neighbourhood</th>\n",
       "      <th>has_scholarship</th>\n",
       "      <th>is_hypertensive</th>\n",
       "      <th>is_diabetic</th>\n",
       "      <th>is_alcoholic</th>\n",
       "      <th>is_handicap</th>\n",
       "      <th>got_sms</th>\n",
       "      <th>did_show</th>\n",
       "    </tr>\n",
       "  </thead>\n",
       "  <tbody>\n",
       "    <tr>\n",
       "      <th>0</th>\n",
       "      <td>2.987250e+13</td>\n",
       "      <td>5642903</td>\n",
       "      <td>F</td>\n",
       "      <td>2016-04-29T18:38:08Z</td>\n",
       "      <td>2016-04-29T00:00:00Z</td>\n",
       "      <td>62</td>\n",
       "      <td>JARDIM DA PENHA</td>\n",
       "      <td>No</td>\n",
       "      <td>True</td>\n",
       "      <td>False</td>\n",
       "      <td>False</td>\n",
       "      <td>False</td>\n",
       "      <td>False</td>\n",
       "      <td>True</td>\n",
       "    </tr>\n",
       "  </tbody>\n",
       "</table>\n",
       "</div>"
      ],
      "text/plain": [
       "     patient_id  appointment_id gender         scheduled_day  \\\n",
       "0  2.987250e+13         5642903      F  2016-04-29T18:38:08Z   \n",
       "\n",
       "        appointment_day  age    neighbourhood has_scholarship  \\\n",
       "0  2016-04-29T00:00:00Z   62  JARDIM DA PENHA              No   \n",
       "\n",
       "   is_hypertensive  is_diabetic  is_alcoholic  is_handicap  got_sms  did_show  \n",
       "0             True        False         False        False    False      True  "
      ]
     },
     "execution_count": 10,
     "metadata": {},
     "output_type": "execute_result"
    }
   ],
   "source": [
    "dataset.head(1)"
   ]
  },
  {
   "cell_type": "markdown",
   "metadata": {},
   "source": [
    "#### Separating date and time\n",
    "scheduled_day --> scheduled_date, scheduled_time\n",
    "\n",
    "appointment_day --> appointment_date, appointment_time"
   ]
  },
  {
   "cell_type": "code",
   "execution_count": 11,
   "metadata": {
    "collapsed": true
   },
   "outputs": [],
   "source": [
    "dataset['scheduled_date'], dataset['scheduled_time'] = dataset['scheduled_day'].str.split('T', 1).str\n",
    "dataset['appointment_date'], dataset['appointment_time'] = dataset['appointment_day'].str.split('T', 1).str\n",
    "\n",
    "#Removing old columns\n",
    "del dataset['scheduled_day']\n",
    "del dataset['appointment_day']"
   ]
  },
  {
   "cell_type": "code",
   "execution_count": 12,
   "metadata": {},
   "outputs": [
    {
     "data": {
      "text/html": [
       "<div>\n",
       "<style>\n",
       "    .dataframe thead tr:only-child th {\n",
       "        text-align: right;\n",
       "    }\n",
       "\n",
       "    .dataframe thead th {\n",
       "        text-align: left;\n",
       "    }\n",
       "\n",
       "    .dataframe tbody tr th {\n",
       "        vertical-align: top;\n",
       "    }\n",
       "</style>\n",
       "<table border=\"1\" class=\"dataframe\">\n",
       "  <thead>\n",
       "    <tr style=\"text-align: right;\">\n",
       "      <th></th>\n",
       "      <th>patient_id</th>\n",
       "      <th>appointment_id</th>\n",
       "      <th>gender</th>\n",
       "      <th>age</th>\n",
       "      <th>neighbourhood</th>\n",
       "      <th>has_scholarship</th>\n",
       "      <th>is_hypertensive</th>\n",
       "      <th>is_diabetic</th>\n",
       "      <th>is_alcoholic</th>\n",
       "      <th>is_handicap</th>\n",
       "      <th>got_sms</th>\n",
       "      <th>did_show</th>\n",
       "      <th>scheduled_date</th>\n",
       "      <th>scheduled_time</th>\n",
       "      <th>appointment_date</th>\n",
       "      <th>appointment_time</th>\n",
       "    </tr>\n",
       "  </thead>\n",
       "  <tbody>\n",
       "    <tr>\n",
       "      <th>0</th>\n",
       "      <td>2.987250e+13</td>\n",
       "      <td>5642903</td>\n",
       "      <td>F</td>\n",
       "      <td>62</td>\n",
       "      <td>JARDIM DA PENHA</td>\n",
       "      <td>No</td>\n",
       "      <td>True</td>\n",
       "      <td>False</td>\n",
       "      <td>False</td>\n",
       "      <td>False</td>\n",
       "      <td>False</td>\n",
       "      <td>True</td>\n",
       "      <td>2016-04-29</td>\n",
       "      <td>18:38:08Z</td>\n",
       "      <td>2016-04-29</td>\n",
       "      <td>00:00:00Z</td>\n",
       "    </tr>\n",
       "  </tbody>\n",
       "</table>\n",
       "</div>"
      ],
      "text/plain": [
       "     patient_id  appointment_id gender  age    neighbourhood has_scholarship  \\\n",
       "0  2.987250e+13         5642903      F   62  JARDIM DA PENHA              No   \n",
       "\n",
       "   is_hypertensive  is_diabetic  is_alcoholic  is_handicap  got_sms  did_show  \\\n",
       "0             True        False         False        False    False      True   \n",
       "\n",
       "  scheduled_date scheduled_time appointment_date appointment_time  \n",
       "0     2016-04-29      18:38:08Z       2016-04-29        00:00:00Z  "
      ]
     },
     "execution_count": 12,
     "metadata": {},
     "output_type": "execute_result"
    }
   ],
   "source": [
    "dataset.head(1)"
   ]
  },
  {
   "cell_type": "markdown",
   "metadata": {},
   "source": [
    "### Checking anamolies"
   ]
  },
  {
   "cell_type": "code",
   "execution_count": 13,
   "metadata": {},
   "outputs": [
    {
     "name": "stdout",
     "output_type": "stream",
     "text": [
      "Gender: ['F' 'M']\n",
      "Age: [-1, 0, 1, 2, 3, 4, 5, 6, 7, 8, 9, 10, 11, 12, 13, 14, 15, 16, 17, 18, 19, 20, 21, 22, 23, 24, 25, 26, 27, 28, 29, 30, 31, 32, 33, 34, 35, 36, 37, 38, 39, 40, 41, 42, 43, 44, 45, 46, 47, 48, 49, 50, 51, 52, 53, 54, 55, 56, 57, 58, 59, 60, 61, 62, 63, 64, 65, 66, 67, 68, 69, 70, 71, 72, 73, 74, 75, 76, 77, 78, 79, 80, 81, 82, 83, 84, 85, 86, 87, 88, 89, 90, 91, 92, 93, 94, 95, 96, 97, 98, 99, 100, 102, 115]\n",
      "Neighbourhood: ['JARDIM DA PENHA' 'MATA DA PRAIA' 'PONTAL DE CAMBURI' 'REPÚBLICA'\n",
      " 'GOIABEIRAS' 'ANDORINHAS' 'CONQUISTA' 'NOVA PALESTINA' 'DA PENHA'\n",
      " 'TABUAZEIRO' 'BENTO FERREIRA' 'SÃO PEDRO' 'SANTA MARTHA' 'SÃO CRISTÓVÃO'\n",
      " 'MARUÍPE' 'GRANDE VITÓRIA' 'SÃO BENEDITO' 'ILHA DAS CAIEIRAS'\n",
      " 'SANTO ANDRÉ' 'SOLON BORGES' 'BONFIM' 'JARDIM CAMBURI' 'MARIA ORTIZ'\n",
      " 'JABOUR' 'ANTÔNIO HONÓRIO' 'RESISTÊNCIA' 'ILHA DE SANTA MARIA'\n",
      " 'JUCUTUQUARA' 'MONTE BELO' 'MÁRIO CYPRESTE' 'SANTO ANTÔNIO' 'BELA VISTA'\n",
      " 'PRAIA DO SUÁ' 'SANTA HELENA' 'ITARARÉ' 'INHANGUETÁ' 'UNIVERSITÁRIO'\n",
      " 'SÃO JOSÉ' 'REDENÇÃO' 'SANTA CLARA' 'CENTRO' 'PARQUE MOSCOSO' 'DO MOSCOSO'\n",
      " 'SANTOS DUMONT' 'CARATOÍRA' 'ARIOVALDO FAVALESSA' 'ILHA DO FRADE'\n",
      " 'GURIGICA' 'JOANA D´ARC' 'CONSOLAÇÃO' 'PRAIA DO CANTO' 'BOA VISTA'\n",
      " 'MORADA DE CAMBURI' 'SANTA LUÍZA' 'SANTA LÚCIA' 'BARRO VERMELHO'\n",
      " 'ESTRELINHA' 'FORTE SÃO JOÃO' 'FONTE GRANDE' 'ENSEADA DO SUÁ'\n",
      " 'SANTOS REIS' 'PIEDADE' 'JESUS DE NAZARETH' 'SANTA TEREZA' 'CRUZAMENTO'\n",
      " 'ILHA DO PRÍNCIPE' 'ROMÃO' 'COMDUSA' 'SANTA CECÍLIA' 'VILA RUBIM'\n",
      " 'DE LOURDES' 'DO QUADRO' 'DO CABRAL' 'HORTO' 'SEGURANÇA DO LAR'\n",
      " 'ILHA DO BOI' 'FRADINHOS' 'NAZARETH' 'AEROPORTO'\n",
      " 'ILHAS OCEÂNICAS DE TRINDADE' 'PARQUE INDUSTRIAL']\n",
      "HasScholarship: ['No' 'Yes']\n",
      "IsHypertensive: [ True False]\n",
      "IsDiabetic: [False  True]\n",
      "IsAlchoholic: [False  True]\n",
      "IsHandicap: [False  True]\n",
      "GotSMS: [False  True]\n",
      "DidShow: [ True False]\n",
      "ScheduledDate: ['2016-04-29' '2016-04-27' '2016-04-26' '2016-04-28' '2016-04-25'\n",
      " '2016-04-20' '2016-03-31' '2016-04-19' '2016-04-06' '2016-04-18'\n",
      " '2016-04-11' '2016-04-12' '2016-04-15' '2016-04-01' '2016-04-05'\n",
      " '2016-04-08' '2016-04-14' '2016-04-13' '2016-04-07' '2016-03-17'\n",
      " '2016-03-30' '2016-03-29' '2016-03-18' '2016-03-28' '2016-03-04'\n",
      " '2016-03-15' '2016-03-14' '2016-03-21' '2016-03-23' '2016-03-22'\n",
      " '2016-03-16' '2016-03-10' '2016-02-29' '2016-03-08' '2016-03-07'\n",
      " '2016-02-24' '2016-02-22' '2016-01-29' '2016-02-23' '2016-02-05'\n",
      " '2016-02-11' '2016-02-02' '2016-01-05' '2016-01-11' '2016-02-26'\n",
      " '2016-02-19' '2016-02-17' '2016-03-03' '2016-03-02' '2016-03-09'\n",
      " '2016-03-01' '2016-03-19' '2016-03-11' '2016-02-16' '2016-02-25'\n",
      " '2016-04-09' '2016-05-24' '2016-05-25' '2016-05-31' '2016-05-17'\n",
      " '2016-05-30' '2016-05-12' '2016-05-19' '2016-05-10' '2016-05-02'\n",
      " '2016-05-16' '2016-05-04' '2016-05-13' '2016-05-20' '2016-05-05'\n",
      " '2016-05-18' '2016-05-06' '2016-05-09' '2016-05-03' '2016-05-11'\n",
      " '2015-11-10' '2016-02-18' '2016-02-03' '2016-01-14' '2016-01-21'\n",
      " '2016-01-28' '2016-02-01' '2015-12-14' '2015-12-08' '2016-01-07'\n",
      " '2016-04-30' '2016-04-16' '2016-02-04' '2015-12-03' '2016-01-04'\n",
      " '2016-01-13' '2016-02-12' '2016-01-20' '2016-01-22' '2016-01-25'\n",
      " '2016-01-27' '2016-01-19' '2016-02-15' '2016-05-14' '2016-05-07'\n",
      " '2016-06-02' '2016-06-03' '2016-06-01' '2016-06-06' '2016-06-07'\n",
      " '2016-06-08' '2016-06-04' '2016-01-26' '2015-12-07' '2015-12-15'\n",
      " '2016-03-05']\n",
      "ScheduledTime: ['18:38:08Z' '16:08:27Z' '16:19:04Z' ..., '17:35:38Z' '15:58:05Z'\n",
      " '15:15:06Z']\n",
      "AppointmentDate: ['2016-04-29' '2016-05-03' '2016-05-10' '2016-05-17' '2016-05-24'\n",
      " '2016-05-31' '2016-05-02' '2016-05-30' '2016-05-16' '2016-05-04'\n",
      " '2016-05-19' '2016-05-12' '2016-05-06' '2016-05-20' '2016-05-05'\n",
      " '2016-05-13' '2016-05-09' '2016-05-25' '2016-05-11' '2016-05-18'\n",
      " '2016-05-14' '2016-06-02' '2016-06-03' '2016-06-06' '2016-06-07'\n",
      " '2016-06-01' '2016-06-08']\n",
      "AppointmentTime: ['00:00:00Z']\n"
     ]
    }
   ],
   "source": [
    "print('Gender:',dataset.gender.unique())\n",
    "print('Age:',sorted(dataset.age.unique()))\n",
    "print('Neighbourhood:',dataset.neighbourhood.unique())\n",
    "print('HasScholarship:',dataset.has_scholarship.unique())\n",
    "print('IsHypertensive:',dataset.is_hypertensive.unique())\n",
    "print('IsDiabetic:',dataset.is_diabetic.unique())\n",
    "print('IsAlchoholic:',dataset.is_alcoholic.unique())\n",
    "print('IsHandicap:',dataset.is_handicap.unique())\n",
    "print('GotSMS:',dataset.got_sms.unique())\n",
    "print('DidShow:',dataset.did_show.unique())\n",
    "print('ScheduledDate:',dataset.scheduled_date.unique())\n",
    "print('ScheduledTime:',dataset.scheduled_time.unique())\n",
    "print('AppointmentDate:',dataset.appointment_date.unique())\n",
    "print('AppointmentTime:',dataset.appointment_time.unique())"
   ]
  },
  {
   "cell_type": "markdown",
   "metadata": {},
   "source": [
    "#### I see following problems:\n",
    "<ul>\n",
    "<li><u>age</u>: some age are negative, I will remove them. Also since age grater than 100 is not very common I will remove that too.</li>\n",
    "<li><u>scheduled_date/appointment_date</u>: Will convert to date</li>\n",
    "<li><u>appointment_time</u>: All the values are 0. Will remove this</li>\n",
    "<li><u>scheduled_time</u>: Ends with Z (But I do not need this column, so will remove it later)</li>\n",
    "</ul>"
   ]
  },
  {
   "cell_type": "code",
   "execution_count": 14,
   "metadata": {
    "collapsed": true
   },
   "outputs": [],
   "source": [
    "dataset = dataset[(dataset.age >= 0) & (dataset.age < 100)]"
   ]
  },
  {
   "cell_type": "code",
   "execution_count": 15,
   "metadata": {
    "collapsed": true
   },
   "outputs": [],
   "source": [
    "dataset['scheduled_date'] = dataset.scheduled_date.apply(np.datetime64)\n",
    "dataset['appointment_date'] = dataset.appointment_date.apply(np.datetime64)"
   ]
  },
  {
   "cell_type": "markdown",
   "metadata": {},
   "source": [
    "#### Removing columns that are not required"
   ]
  },
  {
   "cell_type": "code",
   "execution_count": 16,
   "metadata": {},
   "outputs": [
    {
     "data": {
      "text/plain": [
       "Index(['patient_id', 'appointment_id', 'gender', 'age', 'neighbourhood',\n",
       "       'has_scholarship', 'is_hypertensive', 'is_diabetic', 'is_alcoholic',\n",
       "       'is_handicap', 'got_sms', 'did_show', 'scheduled_date',\n",
       "       'scheduled_time', 'appointment_date', 'appointment_time'],\n",
       "      dtype='object')"
      ]
     },
     "execution_count": 16,
     "metadata": {},
     "output_type": "execute_result"
    }
   ],
   "source": [
    "dataset.keys()"
   ]
  },
  {
   "cell_type": "code",
   "execution_count": 17,
   "metadata": {},
   "outputs": [
    {
     "data": {
      "text/plain": [
       "Index(['patient_id', 'appointment_id', 'gender', 'age', 'neighbourhood',\n",
       "       'has_scholarship', 'is_hypertensive', 'is_diabetic', 'is_alcoholic',\n",
       "       'is_handicap', 'got_sms', 'did_show', 'scheduled_date',\n",
       "       'appointment_date'],\n",
       "      dtype='object')"
      ]
     },
     "execution_count": 17,
     "metadata": {},
     "output_type": "execute_result"
    }
   ],
   "source": [
    "del dataset['scheduled_time']\n",
    "del dataset['appointment_time']\n",
    "dataset.keys()"
   ]
  },
  {
   "cell_type": "markdown",
   "metadata": {},
   "source": [
    "#### Cross checking that appointment_date is never before the scheduling_date"
   ]
  },
  {
   "cell_type": "code",
   "execution_count": 18,
   "metadata": {
    "collapsed": true
   },
   "outputs": [],
   "source": [
    "dataset = dataset[dataset.scheduled_date <= dataset.appointment_date]"
   ]
  },
  {
   "cell_type": "markdown",
   "metadata": {},
   "source": [
    "### I will also add a column indication the days between scheduling and appointment. I will call it 'wait'"
   ]
  },
  {
   "cell_type": "code",
   "execution_count": 19,
   "metadata": {
    "collapsed": true
   },
   "outputs": [],
   "source": [
    "dataset['wait'] = dataset['appointment_date'] - dataset['scheduled_date']"
   ]
  },
  {
   "cell_type": "markdown",
   "metadata": {},
   "source": [
    "<a id='eda'></a>\n",
    "## Exploratory Data Analysis\n",
    "\n",
    "> **Tip**: Now that you've trimmed and cleaned your data, you're ready to move on to exploration. Compute statistics and create visualizations with the goal of addressing the research questions that you posed in the Introduction section. It is recommended that you be systematic with your approach. Look at one variable at a time, and then follow it up by looking at relationships between variables."
   ]
  },
  {
   "cell_type": "code",
   "execution_count": 20,
   "metadata": {
    "collapsed": true
   },
   "outputs": [],
   "source": [
    "def get_groupby_unique(dataset, group_by):\n",
    "    \"\"\"\n",
    "    Method to return only unique elements after grouping based on groupby\n",
    "    \"\"\"\n",
    "    return dataset[group_by].unique()"
   ]
  },
  {
   "cell_type": "code",
   "execution_count": 21,
   "metadata": {
    "collapsed": true
   },
   "outputs": [],
   "source": [
    "def get_groupby_mean(df, group_by, correlation_with):\n",
    "    \"\"\"\n",
    "    Method to get the mean of 'correlation_with' columns when grouped by 'group_by' column\n",
    "    \"\"\"\n",
    "    return df.groupby(group_by)[correlation_with].mean()"
   ]
  },
  {
   "cell_type": "markdown",
   "metadata": {},
   "source": [
    "### Single Variable Exploration (On 'age')"
   ]
  },
  {
   "cell_type": "code",
   "execution_count": 22,
   "metadata": {},
   "outputs": [
    {
     "data": {
      "image/png": "[encoded data removed]",
      "text/plain": [
       "<matplotlib.figure.Figure at 0x25402a2d438>"
      ]
     },
     "metadata": {},
     "output_type": "display_data"
    }
   ],
   "source": [
    "sns.stripplot(data = dataset, y = 'age', jitter = True)\n",
    "plt.ylim(0, 150)\n",
    "plt.title('Distribtuion of age in current dataset')\n",
    "plt.show()"
   ]
  },
  {
   "cell_type": "markdown",
   "metadata": {},
   "source": [
    "It looks like a good distribution, as we have removed the age less than 0 and grater than 100. "
   ]
  },
  {
   "cell_type": "markdown",
   "metadata": {},
   "source": [
    "### Research Question 1 (Relationship between a person showing up and his/her age!)"
   ]
  },
  {
   "cell_type": "code",
   "execution_count": 23,
   "metadata": {},
   "outputs": [
    {
     "data": {
      "image/png": "[encoded data removed]",
      "text/plain": [
       "<matplotlib.figure.Figure at 0x254029fa9b0>"
      ]
     },
     "metadata": {},
     "output_type": "display_data"
    }
   ],
   "source": [
    "group_by = 'age'\n",
    "correlation_with = 'did_show'\n",
    "\n",
    "age_wise_data = get_groupby_unique(dataset, group_by)\n",
    "did_show_prob = get_groupby_mean(dataset, group_by, correlation_with)*100\n",
    "\n",
    "plt.title('Relation between Age and showing up to appointment')\n",
    "plt.xlabel('Age')\n",
    "plt.ylabel('Probability of showing up')\n",
    "plt.plot(did_show_prob)\n",
    "plt.show()"
   ]
  },
  {
   "cell_type": "markdown",
   "metadata": {},
   "source": [
    "We see an upward inclined towards showing to the appointment, especially in the age group 20-80. It <b>seems</b> age is correlated with showing up on the appointment."
   ]
  },
  {
   "cell_type": "markdown",
   "metadata": {},
   "source": [
    "### Research Question 2  (Relationship between showing for appointment and neighbourhood)"
   ]
  },
  {
   "cell_type": "code",
   "execution_count": 24,
   "metadata": {},
   "outputs": [
    {
     "data": {
      "image/png": "[encoded data removed]",
      "text/plain": [
       "<matplotlib.figure.Figure at 0x25406e11780>"
      ]
     },
     "metadata": {},
     "output_type": "display_data"
    }
   ],
   "source": [
    "group_by = 'neighbourhood'\n",
    "correlation_with = 'did_show'\n",
    "\n",
    "neighbourhood_wise_data = get_groupby_mean(dataset, group_by, correlation_with)*100\n",
    "neighbourhood_wise_data.plot.barh(figsize=(5,20), title='Relation between Neighbourhood and showing up to appointment')\n",
    "plt.xlabel('Probability of showing up')\n",
    "plt.show()"
   ]
  },
  {
   "cell_type": "markdown",
   "metadata": {},
   "source": [
    "Let's shortlist the ones with grater than 90% accuracy on attending the appointments."
   ]
  },
  {
   "cell_type": "code",
   "execution_count": 25,
   "metadata": {},
   "outputs": [
    {
     "data": {
      "text/plain": [
       "neighbourhood\n",
       "ILHA DO BOI           91.428571\n",
       "PARQUE INDUSTRIAL    100.000000\n",
       "Name: did_show, dtype: float64"
      ]
     },
     "execution_count": 25,
     "metadata": {},
     "output_type": "execute_result"
    }
   ],
   "source": [
    "neighbourhood_wise_data[neighbourhood_wise_data > 90]"
   ]
  },
  {
   "cell_type": "markdown",
   "metadata": {},
   "source": [
    "Hence, 2 neighbourhoods, 'ILHA DO BOI' and 'PARQUE INDUSTRIAL' show the highest show_ups with latter showing 100% accuracy."
   ]
  },
  {
   "cell_type": "markdown",
   "metadata": {},
   "source": [
    "### Research Question 3  (Relationship b/w scholarship and going to appointment)"
   ]
  },
  {
   "cell_type": "code",
   "execution_count": 29,
   "metadata": {},
   "outputs": [
    {
     "data": {
      "image/png": "[encoded data removed]",
      "text/plain": [
       "<matplotlib.figure.Figure at 0x2540308fc50>"
      ]
     },
     "metadata": {},
     "output_type": "display_data"
    }
   ],
   "source": [
    "group_by = 'has_scholarship'\n",
    "correlation_with = 'did_show'\n",
    "\n",
    "scholarship_wise_data = get_groupby_unique(dataset, group_by)\n",
    "did_show_prob = get_groupby_mean(dataset, group_by, correlation_with)*100\n",
    "\n",
    "plt.title('Relation between Scholarship and showing up on appointment date')\n",
    "plt.xlabel('Have Scholarship')\n",
    "plt.ylabel('Probability of showing up')\n",
    "plt.scatter(x=scholarship_wise_data, y=did_show_prob)\n",
    "plt.show()"
   ]
  },
  {
   "cell_type": "markdown",
   "metadata": {},
   "source": [
    "It looks like the people without the scholarship have better chances of going to appointments than the one which have been given the scholarship."
   ]
  },
  {
   "cell_type": "markdown",
   "metadata": {},
   "source": [
    "<a id='conclusions'></a>\n",
    "## Conclusions"
   ]
  },
  {
   "cell_type": "markdown",
   "metadata": {},
   "source": [
    "We analysed the 'No-show Appointments' dataset on Age, Neighbourhood and Scholarship.\n",
    "\n",
    "><ul>\n",
    "<li>We found some correlation b/w the age and showing up to the appointment. (Though we have not performed any statistical tests and hence cannot confirm this result)</li>\n",
    "<li>We saw that in the given dataset, people from 'ILHA DO BOI' and 'PARQUE INDUSTRIAL' have the highest average probability of showing up on the \n",
    "appointment date.</li>\n",
    "<li>We also found that for the given dataset, people without scholarship have around 4% more probablity of showing up than those with scholarship</li>\n",
    "</ul>\n",
    "\n",
    "\n",
    "PS: All the results above are tentative as we have not performed any statistical tests."
   ]
  },
  {
   "cell_type": "markdown",
   "metadata": {},
   "source": [
    "#### Future Work\n",
    "<ul>\n",
    "<li>We may run statistical search over this data to confirm the correlation</li>\n",
    "<li>We may try to find other factors which may affect the show/no-show status like Gender, SMS notifications, Day/Month of scheduling/appointment</li>\n",
    "<li>We may also look towards patients with what problems are more to schedule an appointment but then later do not show up</li>\n",
    "</ul"
   ]
  },
  {
   "cell_type": "markdown",
   "metadata": {},
   "source": [
    "#### Limitations\n",
    "It would have been better if there had been more relevant features in the datasets like below:\n",
    "<ul>\n",
    "<li>Distance of neighbourhoods from the clinic</li>\n",
    "<li>Have these appointments being scheduled by the patient or by someone else on the behalf of patients</li>\n",
    "<li>What is the overall review (rating) for the clinics. It is possible that patients would not come for appointment only in some particular clinics.</li>\n",
    "</ul>\n",
    "\n",
    "There are some other factors that we are not sure of, and which may affect the accuracy of our prediction:\n",
    "<ul>\n",
    "<li>We do not know about how easy it is to find the location of treatment. Maybe some people come for treatment but they were not able to find the location</li>\n",
    "<li>We are also not sure if no-show covers the case when a patient may have arrived later than his original appointment time</li>\n",
    "<li>What happens if a patient re-schedule his appointment. Was this data updated?</li>\n",
    "</ul>\n",
    "\n"
   ]
  },
  {
   "cell_type": "markdown",
   "metadata": {},
   "source": [
    "##### Hence we may not have a concrete solution since there could be many uncontrolled variables that could have resulted in the no-show scenario.\n"
   ]
  }
 ],
 "metadata": {
  "kernelspec": {
   "display_name": "Python 3",
   "language": "python",
   "name": "python3"
  },
  "language_info": {
   "codemirror_mode": {
    "name": "ipython",
    "version": 3
   },
   "file_extension": ".py",
   "mimetype": "text/x-python",
   "name": "python",
   "nbconvert_exporter": "python",
   "pygments_lexer": "ipython3",
   "version": "3.6.3"
  }
 },
 "nbformat": 4,
 "nbformat_minor": 2
}
